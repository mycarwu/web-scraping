{
 "cells": [
  {
   "cell_type": "code",
   "execution_count": 1,
   "metadata": {},
   "outputs": [],
   "source": [
    "from splinter import Browser\n",
    "from bs4 import BeautifulSoup"
   ]
  },
  {
   "cell_type": "code",
   "execution_count": 2,
   "metadata": {},
   "outputs": [],
   "source": [
    "def init_browser():\n",
    "    # @NOTE: Replace the path with your actual path to the chromedriver\n",
    "    executable_path = {\"executable_path\": \"/usr/local/bin/chromedriver\"}\n",
    "    return Browser(\"chrome\", **executable_path, headless=False)"
   ]
  },
  {
   "cell_type": "code",
   "execution_count": 3,
   "metadata": {},
   "outputs": [],
   "source": [
    "def scrape():\n",
    "    \n",
    "    listings = {}#Dictionary to store all the reqired informations. \n",
    "    \n",
    "    \n",
    "    #Automating browser to collect the latest News Title and Paragraph Text.\n",
    "    browser = init_browser()\n",
    "    url = \"https://mars.nasa.gov/news/\"\n",
    "    browser.visit(url)\n",
    "    html = browser.html\n",
    "    soup = BeautifulSoup(html, \"html.parser\")\n",
    "    listings[\"latest_title\"]= soup.find('div',class_='content_title').get_text()\n",
    "    listings[\"description\"]= soup.find('div',class_=\"article_teaser_body\").text\n",
    "    browser.quit()\n",
    "    \n",
    "    \n",
    "    #Automating browser to find the image url for the current Featured Mars Image.\n",
    "    browser = init_browser()\n",
    "    url = \"https://www.jpl.nasa.gov/spaceimages/?search=&category=Mars\"\n",
    "    browser.visit(url)\n",
    "    html = browser.html\n",
    "    soup = BeautifulSoup(html, \"html.parser\")\n",
    "    listings[\"featured_image_url\"]=\"https://www.jpl.nasa.gov\"+soup.find('div', class_=\"carousel_items\").a['data-fancybox-href']\n",
    "    browser.quit()\n",
    "    \n",
    "    \n",
    "    #Automating browser to collect the latest Mars weather.\n",
    "    browser = init_browser()\n",
    "    url = \"https://twitter.com/marswxreport?lang=en\"\n",
    "    browser.visit(url)\n",
    "    html = browser.html\n",
    "    soup = BeautifulSoup(html, \"html.parser\")\n",
    "    listings[\"mars_weather\"]=soup.find('div',class_=\"ProfileTimeline\").p.text\n",
    "    browser.quit()\n",
    "    \n",
    "    #Using Pandas to scrape the table containing facts about the planet including Diameter, Mass, etc.\n",
    "    import pandas as pd\n",
    "    url = 'https://space-facts.com/mars/'\n",
    "    tables = pd.read_html(url)\n",
    "    df = tables[0]\n",
    "    df.columns = ['Description','Value']\n",
    "    df.set_index('Description' ,inplace=True)\n",
    "    listings[\"html_table\"] = df.to_html()\n",
    "    browser.quit()\n",
    "    \n",
    "    \n",
    "    \n",
    "    #Automating browser to obtain high resolution images for each of Mar's hemispheres.\n",
    "    browser = init_browser()\n",
    "    url=\"http://www.planetary.org/blogs/guest-blogs/bill-dunford/20140203-the-faces-of-mars.html\"\n",
    "    browser.visit(url)\n",
    "    html = browser.html\n",
    "    soup = BeautifulSoup(html, \"html.parser\")\n",
    "    results=soup.find_all('div',class_='img-caption-box')\n",
    "    title=[] # List to collect the names of the Mar's hemispheres\n",
    "    img_url=[] #List to collect the img urls of each of the Mar's hemispheres\n",
    "    for i in results:\n",
    "        title.append(i.h5.text)\n",
    "\n",
    "        browser.back()\n",
    "    \n",
    "\n",
    "    hemisphere_image_urls=[]\n",
    "    for i in range(4):\n",
    "        url=soup.find_all('img',class_='img840')[i]\n",
    "        img_url.append(\"\"+url['src'])\n",
    "        hemisphere_image_urls.append({\n",
    "        'img_url':img_url[i],\n",
    "        'title':title[i],\n",
    "            })\n",
    "        \n",
    "        \n",
    "    listings[\"hemisphere_image_urls\"]= hemisphere_image_urls\n",
    "    browser.quit()\n",
    "    return listings"
   ]
  },
  {
   "cell_type": "code",
   "execution_count": 4,
   "metadata": {},
   "outputs": [
    {
     "data": {
      "text/plain": [
       "{'latest_title': \"NASA's InSight Places First Instrument on Mars\",\n",
       " 'description': 'In deploying its first instrument onto the surface of Mars, the lander completes a major mission milestone.',\n",
       " 'featured_image_url': 'https://www.jpl.nasa.gov/spaceimages/images/mediumsize/PIA19382_ip.jpg',\n",
       " 'mars_weather': 'Sol 2288 (2019-01-12), high -7C/19F, low -68C/-90F, pressure at 8.23 hPa, daylight 06:45-18:55pic.twitter.com/Or8q1l3tka',\n",
       " 'html_table': '<table border=\"1\" class=\"dataframe\">\\n  <thead>\\n    <tr style=\"text-align: right;\">\\n      <th></th>\\n      <th>Value</th>\\n    </tr>\\n    <tr>\\n      <th>Description</th>\\n      <th></th>\\n    </tr>\\n  </thead>\\n  <tbody>\\n    <tr>\\n      <th>Equatorial Diameter:</th>\\n      <td>6,792 km</td>\\n    </tr>\\n    <tr>\\n      <th>Polar Diameter:</th>\\n      <td>6,752 km</td>\\n    </tr>\\n    <tr>\\n      <th>Mass:</th>\\n      <td>6.42 x 10^23 kg (10.7% Earth)</td>\\n    </tr>\\n    <tr>\\n      <th>Moons:</th>\\n      <td>2 (Phobos &amp; Deimos)</td>\\n    </tr>\\n    <tr>\\n      <th>Orbit Distance:</th>\\n      <td>227,943,824 km (1.52 AU)</td>\\n    </tr>\\n    <tr>\\n      <th>Orbit Period:</th>\\n      <td>687 days (1.9 years)</td>\\n    </tr>\\n    <tr>\\n      <th>Surface Temperature:</th>\\n      <td>-153 to 20 °C</td>\\n    </tr>\\n    <tr>\\n      <th>First Record:</th>\\n      <td>2nd millennium BC</td>\\n    </tr>\\n    <tr>\\n      <th>Recorded By:</th>\\n      <td>Egyptian astronomers</td>\\n    </tr>\\n  </tbody>\\n</table>',\n",
       " 'hemisphere_image_urls': [{'img_url': 'https://planetary.s3.amazonaws.com/assets/images/4-mars/2014/20140202_valles_marineris_enhanced_f840.jpg',\n",
       "   'title': 'Viking 2 Approaches Mars'},\n",
       "  {'img_url': 'https://planetary.s3.amazonaws.com/assets/images/4-mars/2014/20140202_syrtis_major_enhanced_f840.jpg',\n",
       "   'title': 'Mars: Valles Marineris Hemisphere'},\n",
       "  {'img_url': 'https://planetary.s3.amazonaws.com/assets/images/4-mars/2014/20140202_cerberus_enhanced_f840.jpg',\n",
       "   'title': 'Mars: Syrtis Major Hemisphere'},\n",
       "  {'img_url': 'https://planetary.s3.amazonaws.com/assets/images/4-mars/2014/20140202_schiaparelli_enhanced_f840.jpg',\n",
       "   'title': 'Mars: Cerberus Hemisphere '}]}"
      ]
     },
     "execution_count": 4,
     "metadata": {},
     "output_type": "execute_result"
    }
   ],
   "source": [
    "scrape()"
   ]
  },
  {
   "cell_type": "code",
   "execution_count": null,
   "metadata": {},
   "outputs": [],
   "source": []
  }
 ],
 "metadata": {
  "kernelspec": {
   "display_name": "Python 3",
   "language": "python",
   "name": "python3"
  },
  "language_info": {
   "codemirror_mode": {
    "name": "ipython",
    "version": 3
   },
   "file_extension": ".py",
   "mimetype": "text/x-python",
   "name": "python",
   "nbconvert_exporter": "python",
   "pygments_lexer": "ipython3",
   "version": "3.7.0"
  }
 },
 "nbformat": 4,
 "nbformat_minor": 2
}
